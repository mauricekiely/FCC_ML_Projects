{
 "cells": [
  {
   "cell_type": "code",
   "execution_count": 77,
   "metadata": {},
   "outputs": [],
   "source": [
    "import numpy as np\n",
    "import pandas as pd\n",
    "import tensorflow as tf\n",
    "from tensorflow import keras"
   ]
  },
  {
   "cell_type": "code",
   "execution_count": 78,
   "metadata": {},
   "outputs": [
    {
     "name": "stdout",
     "output_type": "stream",
     "text": [
      "--2024-03-07 12:51:21--  https://cdn.freecodecamp.org/project-data/sms/train-data.tsv\n",
      "Resolving cdn.freecodecamp.org (cdn.freecodecamp.org)... 2606:4700:20::681a:221, 2606:4700:20::ac43:4695, 2606:4700:20::681a:321, ...\n",
      "Connecting to cdn.freecodecamp.org (cdn.freecodecamp.org)|2606:4700:20::681a:221|:443... connected.\n",
      "HTTP request sent, awaiting response... 200 OK\n",
      "Length: 358233 (350K) [text/tab-separated-values]\n",
      "Saving to: ‘train-data.tsv.4’\n",
      "\n",
      "train-data.tsv.4    100%[===================>] 349.84K  --.-KB/s    in 0.02s   \n",
      "\n",
      "2024-03-07 12:51:22 (14.1 MB/s) - ‘train-data.tsv.4’ saved [358233/358233]\n",
      "\n",
      "--2024-03-07 12:51:22--  https://cdn.freecodecamp.org/project-data/sms/valid-data.tsv\n",
      "Resolving cdn.freecodecamp.org (cdn.freecodecamp.org)... 2606:4700:20::681a:221, 2606:4700:20::ac43:4695, 2606:4700:20::681a:321, ...\n",
      "Connecting to cdn.freecodecamp.org (cdn.freecodecamp.org)|2606:4700:20::681a:221|:443... connected.\n",
      "HTTP request sent, awaiting response... 200 OK\n",
      "Length: 118774 (116K) [text/tab-separated-values]\n",
      "Saving to: ‘valid-data.tsv.4’\n",
      "\n",
      "valid-data.tsv.4    100%[===================>] 115.99K  --.-KB/s    in 0.004s  \n",
      "\n",
      "2024-03-07 12:51:22 (30.5 MB/s) - ‘valid-data.tsv.4’ saved [118774/118774]\n",
      "\n"
     ]
    }
   ],
   "source": [
    "!wget https://cdn.freecodecamp.org/project-data/sms/train-data.tsv\n",
    "!wget https://cdn.freecodecamp.org/project-data/sms/valid-data.tsv\n",
    "\n",
    "train_file_path = \"train-data.tsv\"\n",
    "test_file_path = \"valid-data.tsv\""
   ]
  },
  {
   "cell_type": "code",
   "execution_count": 79,
   "metadata": {},
   "outputs": [],
   "source": [
    "train_data = pd.read_csv(train_file_path, sep='\\t', header=None)\n",
    "test_data = pd.read_csv(test_file_path, sep='\\t', header=None)\n",
    "\n",
    "train_data.columns = ['class', 'sms']\n",
    "test_data.columns = ['class', 'sms']\n",
    "\n",
    "train_labels = train_data.pop('class')\n",
    "test_labels = test_data.pop('class')\n",
    "\n",
    "class_map = {'ham':0, 'spam':1}\n",
    "train_labels = train_labels.map(class_map)\n",
    "test_labels = test_labels.map(class_map)\n",
    "\n",
    "train_data = np.array(train_data['sms'])\n",
    "test_data = np.array(test_data['sms'])\n",
    "\n",
    "test_labels = np.array(test_labels)\n",
    "train_labels = np.array(train_labels)\n"
   ]
  },
  {
   "cell_type": "code",
   "execution_count": 80,
   "metadata": {},
   "outputs": [],
   "source": [
    "vectorize_layer = tf.keras.layers.TextVectorization()\n",
    "vectorize_layer.adapt(train_data)\n",
    "VOCAB_SIZE = len(vectorize_layer.get_vocabulary())\n"
   ]
  },
  {
   "cell_type": "code",
   "execution_count": 81,
   "metadata": {},
   "outputs": [],
   "source": [
    "model = keras.Sequential([\n",
    "    vectorize_layer,\n",
    "    keras.layers.Embedding(VOCAB_SIZE, 32),\n",
    "    tf.keras.layers.LSTM(32),\n",
    "    tf.keras.layers.Dense(1, activation='sigmoid')\n",
    "])\n",
    "\n",
    "model.compile(loss = \"binary_crossentropy\", optimizer = \"rmsprop\", metrics = ['acc'])"
   ]
  },
  {
   "cell_type": "code",
   "execution_count": 82,
   "metadata": {},
   "outputs": [
    {
     "name": "stdout",
     "output_type": "stream",
     "text": [
      "Epoch 1/10\n",
      "98/98 [==============================] - 3s 16ms/step - loss: 0.3179 - acc: 0.8918 - val_loss: 0.1226 - val_acc: 0.9780\n",
      "Epoch 2/10\n",
      "98/98 [==============================] - 1s 12ms/step - loss: 0.0955 - acc: 0.9799 - val_loss: 0.0854 - val_acc: 0.9809\n",
      "Epoch 3/10\n",
      "98/98 [==============================] - 1s 11ms/step - loss: 0.0571 - acc: 0.9888 - val_loss: 0.0710 - val_acc: 0.9847\n",
      "Epoch 4/10\n",
      "98/98 [==============================] - 1s 11ms/step - loss: 0.0408 - acc: 0.9917 - val_loss: 0.0739 - val_acc: 0.9866\n",
      "Epoch 5/10\n",
      "98/98 [==============================] - 1s 11ms/step - loss: 0.0314 - acc: 0.9946 - val_loss: 0.0668 - val_acc: 0.9876\n",
      "Epoch 6/10\n",
      "98/98 [==============================] - 1s 11ms/step - loss: 0.0315 - acc: 0.9930 - val_loss: 0.1245 - val_acc: 0.9732\n",
      "Epoch 7/10\n",
      "98/98 [==============================] - 1s 11ms/step - loss: 0.0231 - acc: 0.9962 - val_loss: 0.2308 - val_acc: 0.9560\n",
      "Epoch 8/10\n",
      "98/98 [==============================] - 1s 11ms/step - loss: 0.0265 - acc: 0.9949 - val_loss: 0.1194 - val_acc: 0.9770\n",
      "Epoch 9/10\n",
      "98/98 [==============================] - 1s 11ms/step - loss: 0.0149 - acc: 0.9962 - val_loss: 0.2525 - val_acc: 0.9244\n",
      "Epoch 10/10\n",
      "98/98 [==============================] - 1s 12ms/step - loss: 0.0136 - acc: 0.9962 - val_loss: 0.0925 - val_acc: 0.9818\n"
     ]
    }
   ],
   "source": [
    "history = model.fit(train_data, train_labels, epochs=10, validation_split=0.25)"
   ]
  },
  {
   "cell_type": "code",
   "execution_count": 83,
   "metadata": {},
   "outputs": [
    {
     "name": "stdout",
     "output_type": "stream",
     "text": [
      "1/1 [==============================] - 0s 282ms/step\n",
      "[0.13440558, 'ham']\n"
     ]
    }
   ],
   "source": [
    "# function to predict messages based on model\n",
    "# (should return list containing prediction and label, ex. [0.008318834938108921, 'ham'])\n",
    "def predict_message(pred_text):\n",
    "  pred = model.predict(np.array([pred_text]))\n",
    "  prediction = [pred[0][0], 'ham'] if pred[0][0] < 0.5 else [pred[0][0], 'spam']\n",
    "  return (prediction)\n",
    "\n",
    "pred_text = \"how are you doing today?\"\n",
    "\n",
    "prediction = predict_message(pred_text)\n",
    "print(prediction)"
   ]
  },
  {
   "cell_type": "code",
   "execution_count": 84,
   "metadata": {},
   "outputs": [
    {
     "name": "stdout",
     "output_type": "stream",
     "text": [
      "1/1 [==============================] - 0s 23ms/step\n",
      "1/1 [==============================] - 0s 14ms/step\n",
      "1/1 [==============================] - 0s 15ms/step\n",
      "1/1 [==============================] - 0s 14ms/step\n",
      "1/1 [==============================] - 0s 13ms/step\n",
      "1/1 [==============================] - 0s 13ms/step\n",
      "1/1 [==============================] - 0s 13ms/step\n",
      "You passed the challenge. Great job!\n"
     ]
    }
   ],
   "source": [
    "# Run this cell to test your function and model. Do not modify contents.\n",
    "def test_predictions():\n",
    "  test_messages = [\"how are you doing today\",\n",
    "                   \"sale today! to stop texts call 98912460324\",\n",
    "                   \"i dont want to go. can we try it a different day? available sat\",\n",
    "                   \"our new mobile video service is live. just install on your phone to start watching.\",\n",
    "                   \"you have won £1000 cash! call to claim your prize.\",\n",
    "                   \"i'll bring it tomorrow. don't forget the milk.\",\n",
    "                   \"wow, is your arm alright. that happened to me one time too\"\n",
    "                  ]\n",
    "\n",
    "  test_answers = [\"ham\", \"spam\", \"ham\", \"spam\", \"spam\", \"ham\", \"ham\"]\n",
    "  passed = True\n",
    "\n",
    "  for msg, ans in zip(test_messages, test_answers):\n",
    "    prediction = predict_message(msg)\n",
    "    if prediction[1] != ans:\n",
    "      passed = False\n",
    "\n",
    "  if passed:\n",
    "    print(\"You passed the challenge. Great job!\")\n",
    "  else:\n",
    "    print(\"You haven't passed yet. Keep trying.\")\n",
    "\n",
    "test_predictions()\n"
   ]
  },
  {
   "cell_type": "code",
   "execution_count": null,
   "metadata": {},
   "outputs": [],
   "source": []
  }
 ],
 "metadata": {
  "kernelspec": {
   "display_name": "tf",
   "language": "python",
   "name": "python3"
  },
  "language_info": {
   "codemirror_mode": {
    "name": "ipython",
    "version": 3
   },
   "file_extension": ".py",
   "mimetype": "text/x-python",
   "name": "python",
   "nbconvert_exporter": "python",
   "pygments_lexer": "ipython3",
   "version": "3.11.5"
  }
 },
 "nbformat": 4,
 "nbformat_minor": 2
}
